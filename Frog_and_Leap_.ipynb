{
  "nbformat": 4,
  "nbformat_minor": 0,
  "metadata": {
    "colab": {
      "provenance": [],
      "authorship_tag": "ABX9TyNrNXfzK2zJFM6nIsD5TU+p",
      "include_colab_link": true
    },
    "kernelspec": {
      "name": "python3",
      "display_name": "Python 3"
    },
    "language_info": {
      "name": "python"
    }
  },
  "cells": [
    {
      "cell_type": "markdown",
      "metadata": {
        "id": "view-in-github",
        "colab_type": "text"
      },
      "source": [
        "<a href=\"https://colab.research.google.com/github/devhinged/PrepInsta-internship/blob/main/Frog_and_Leap_.ipynb\" target=\"_parent\"><img src=\"https://colab.research.google.com/assets/colab-badge.svg\" alt=\"Open In Colab\"/></a>"
      ]
    },
    {
      "cell_type": "code",
      "source": [
        "def print_board(frogs):\n",
        "    \"\"\"\n",
        "    Prints the current state of the game board.\n",
        "    \"\"\"\n",
        "    print(\" \".join(frogs))\n",
        "\n",
        "def valid_move(frogs, index, direction):\n",
        "    \"\"\"\n",
        "    Checks if the move is valid.\n",
        "    \"\"\"\n",
        "    if direction == \"right\":\n",
        "        return index <= len(frogs) and (frogs[index + 1] == \"_\" or frogs[index + 2] == \"_\")\n",
        "    elif direction == \"left\":\n",
        "        return index > 0 and (frogs[index - 1] == \"_\" or frogs[index-2] == \"_\")\n",
        "\n",
        "def move_frog(frogs, index, direction):\n",
        "    \"\"\"\n",
        "    Moves the frog to the specified direction.\n",
        "    \"\"\"\n",
        "    if direction == \"right\":\n",
        "        frogs[index], frogs[index + 1] = frogs[index + 1], frogs[index]\n",
        "    elif direction == \"left\":\n",
        "        frogs[index], frogs[index - 1] = frogs[index - 1], frogs[index]\n",
        "\n",
        "def jump_over_frog(frogs, index, direction):\n",
        "    \"\"\"\n",
        "    Jumps over the adjacent frog.\n",
        "    \"\"\"\n",
        "    if direction == \"right\":\n",
        "        frogs[index], frogs[index + 2] = frogs[index + 2], frogs[index]\n",
        "    elif direction == \"left\":\n",
        "        frogs[index], frogs[index - 2] = frogs[index - 2], frogs[index]\n",
        "\n",
        "def game():\n",
        "    \"\"\"\n",
        "    Main game function.\n",
        "    \"\"\"\n",
        "    frogs = [\"G\", \"G\", \"G\", \"_\", \"B\", \"B\", \"B\"]  # Initial game state\n",
        "    print(\"Welcome to the Frog Puzzle Game!\\n\")\n",
        "\n",
        "    while True:\n",
        "        print_board(frogs)\n",
        "\n",
        "        # Check win condition\n",
        "        if frogs == [\"B\", \"B\", \"B\", \"_\", \"G\", \"G\", \"G\"]:\n",
        "            print(\"\\nCongratulations! You've solved the puzzle!\")\n",
        "            break\n",
        "\n",
        "        # Prompt user for move\n",
        "        frog_index = int(input(\"\\nEnter the index of the frog you want to move (0-6): \"))\n",
        "\n",
        "        # Check if the input is valid\n",
        "        if frog_index < 0 or frog_index > 6:\n",
        "            print(\"Invalid input. Please enter a number between 0 and 6.\")\n",
        "            continue\n",
        "\n",
        "        # Check if the selected position is a frog\n",
        "        if frogs[frog_index] == \"_\":\n",
        "            print(\"There's no frog on that rock. Choose another position.\")\n",
        "            continue\n",
        "\n",
        "        # Determine the direction based on the color of the frog\n",
        "        if frogs[frog_index] == \"G\":\n",
        "            direction = \"right\"\n",
        "        elif frogs[frog_index] == \"B\":\n",
        "            direction = \"left\"\n",
        "\n",
        "        # Check if the move is valid\n",
        "        if not valid_move(frogs, frog_index, direction):\n",
        "            print(\"Invalid move. The frog cannot jump there.\")\n",
        "            continue\n",
        "\n",
        "        # Check if the frog can jump over another frog\n",
        "        if direction == \"right\" and frog_index < 5 and frogs[frog_index + 2] == \"_\":\n",
        "            jump_over_frog(frogs, frog_index, direction)\n",
        "        elif direction == \"left\" and frog_index > 1  and frogs[frog_index - 2] == \"_\":\n",
        "            jump_over_frog(frogs, frog_index, direction)\n",
        "        else:\n",
        "            # Move the frog forward or backward\n",
        "            move_frog(frogs, frog_index, direction)\n",
        "\n",
        "game()\n"
      ],
      "metadata": {
        "id": "202_FB0wXrrR",
        "colab": {
          "base_uri": "https://localhost:8080/"
        },
        "outputId": "42a7486c-6444-4aa1-b787-ab44573c53d8"
      },
      "execution_count": null,
      "outputs": [
        {
          "metadata": {
            "tags": null
          },
          "name": "stdout",
          "output_type": "stream",
          "text": [
            "Welcome to the Frog Puzzle Game!\n",
            "\n",
            "G G G _ B B B\n",
            "G G _ G B B B\n"
          ]
        }
      ]
    }
  ]
}